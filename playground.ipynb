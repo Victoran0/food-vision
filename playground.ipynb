{
 "cells": [
  {
   "cell_type": "code",
   "execution_count": 2,
   "metadata": {},
   "outputs": [
    {
     "name": "stdout",
     "output_type": "stream",
     "text": [
      "[INFO] Copying data\\pizza_steak_sushi_20_percent\\test\\sushi\\592799.jpg to demos\\foodvision_mini\\examples\\592799.jpg\n",
      "[INFO] Copying data\\pizza_steak_sushi_20_percent\\test\\steak\\3622237.jpg to demos\\foodvision_mini\\examples\\3622237.jpg\n",
      "[INFO] Copying data\\pizza_steak_sushi_20_percent\\test\\pizza\\2582289.jpg to demos\\foodvision_mini\\examples\\2582289.jpg\n"
     ]
    }
   ],
   "source": [
    "import shutil\n",
    "from pathlib import Path\n",
    "\n",
    "foodvision_mini_examples_path = Path(\"demos/foodvision_mini/examples\")\n",
    "\n",
    "foodvision_mini_examples = [Path('data/pizza_steak_sushi_20_percent/test/sushi/592799.jpg'),\n",
    "                            Path(\n",
    "                                'data/pizza_steak_sushi_20_percent/test/steak/3622237.jpg'),\n",
    "                            Path('data/pizza_steak_sushi_20_percent/test/pizza/2582289.jpg')]\n",
    "\n",
    "for example in foodvision_mini_examples:\n",
    "    destination = foodvision_mini_examples_path/example.name\n",
    "    print(f\"[INFO] Copying {example} to {destination}\")\n",
    "    shutil.copy2(src=example, dst=destination)"
   ]
  },
  {
   "cell_type": "code",
   "execution_count": 3,
   "metadata": {},
   "outputs": [
    {
     "data": {
      "text/plain": [
       "[['examples/2582289.jpg'], ['examples/3622237.jpg'], ['examples/592799.jpg']]"
      ]
     },
     "execution_count": 3,
     "metadata": {},
     "output_type": "execute_result"
    }
   ],
   "source": [
    "import os\n",
    "\n",
    "# Get example filepaths in a list of lists\n",
    "example_list = [[\"examples/\" + example]\n",
    "                for example in os.listdir(foodvision_mini_examples_path)]\n",
    "example_list"
   ]
  },
  {
   "cell_type": "code",
   "execution_count": 4,
   "metadata": {},
   "outputs": [
    {
     "name": "stdout",
     "output_type": "stream",
     "text": [
      "Overwriting demos/foodvision_mini/model.py\n"
     ]
    }
   ],
   "source": [
    "%%writefile demos/foodvision_mini/model.py\n",
    "import torch\n",
    "import torchvision\n",
    "\n",
    "from torch import nn\n",
    "\n",
    "def create_effnetb0_model(num_classes: int=3, seed: int=42):\n",
    "    effnetb0_weights = torchvision.models.EfficientNet_B0_Weights.DEFAULT\n",
    "    effnetb0_transforms = effnetb0_weights.transforms()\n",
    "    effnetb0 = torchvision.models.efficientnet_b0(weights=effnetb0_weights)\n",
    "\n",
    "    for param in effnetb0.parameters():\n",
    "        param.required_grad = False\n",
    "    \n",
    "    torch.manual_seed(seed)\n",
    "\n",
    "    effnetb0.classifier = nn.Sequential(\n",
    "        nn.Dropout(p=0.3, inplace=True),\n",
    "        nn.Linear(in_features=1280, out_features=num_classes)\n",
    "    )\n",
    "\n",
    "    return effnetb0, effnetb0_transforms\n",
    "\n"
   ]
  },
  {
   "cell_type": "code",
   "execution_count": 12,
   "metadata": {},
   "outputs": [
    {
     "name": "stderr",
     "output_type": "stream",
     "text": [
      "tar: : Couldn't visit directory: No such file or directory\n",
      "tar: Error exit delayed from previous errors.\n"
     ]
    }
   ],
   "source": [
    "# Change into and then zip the foodvision_mini folder but exclude certain files\n",
    "!cd demos/foodvision_mini && tar -a -c -f ../foodvision_mini.zip --exclude *__pycache__* * --no-recursion -v"
   ]
  },
  {
   "cell_type": "code",
   "execution_count": 8,
   "metadata": {},
   "outputs": [
    {
     "name": "stdout",
     "output_type": "stream",
     "text": [
      " Volume in drive C is Windows\n",
      " Volume Serial Number is 3CBC-017D\n",
      "\n",
      " Directory of c:\\Users\\User\\Data Science\\Deep Learning\\Pytorch\\food-vision\n",
      "\n",
      "09/23/2024  04:52 PM    <DIR>          .\n",
      "09/12/2024  07:46 PM    <DIR>          ..\n",
      "09/23/2024  04:48 PM                85 .gitignore\n",
      "09/20/2024  03:54 AM    <DIR>          data\n",
      "09/12/2024  07:08 PM             2,071 data_setup.py\n",
      "09/23/2024  04:37 PM    <DIR>          demos\n",
      "09/23/2024  04:51 PM            63,690 deployment_with_gradio.ipynb\n",
      "09/19/2024  06:56 PM             7,106 engine.py\n",
      "09/18/2024  06:28 PM        25,143,974 experiment_tracking_with_tensorboard.ipynb\n",
      "09/23/2024  04:01 PM    <DIR>          flagged\n",
      "09/08/2024  08:38 PM            10,201 helper_functions.py\n",
      "09/23/2024  04:37 PM    <DIR>          models\n",
      "09/12/2024  08:39 PM             2,048 model_builder.py\n",
      "09/23/2024  05:54 PM             4,869 playground.ipynb\n",
      "09/14/2024  07:45 PM             3,213 predict.py\n",
      "09/18/2024  06:06 PM         1,351,446 pretrained_model.ipynb\n",
      "09/14/2024  07:43 PM    <DIR>          runs\n",
      "09/13/2024  07:47 PM               389 set_seeds.py\n",
      "09/13/2024  05:32 PM             1,849 train.py\n",
      "09/12/2024  09:13 PM             1,126 utils.py\n",
      "09/20/2024  05:07 PM         1,198,181 VIT_model.ipynb\n",
      "09/20/2024  03:19 AM    <DIR>          __pycache__\n",
      "              14 File(s)     27,790,248 bytes\n",
      "               8 Dir(s)  10,725,670,912 bytes free\n"
     ]
    }
   ],
   "source": [
    "!dir"
   ]
  },
  {
   "cell_type": "code",
   "execution_count": 5,
   "metadata": {},
   "outputs": [
    {
     "name": "stdout",
     "output_type": "stream",
     "text": [
      "Not running in Google Colab, can't use google.colab.files.download(), please manually download.\n"
     ]
    },
    {
     "name": "stderr",
     "output_type": "stream",
     "text": [
      "'zip' is not recognized as an internal or external command,\n",
      "operable program or batch file.\n"
     ]
    }
   ],
   "source": [
    "\n",
    "\n",
    "# Download the zipped FoodVision Mini app (if running in Google Colab)\n",
    "try:\n",
    "    from google.colab import files\n",
    "    files.download(\"demos/foodvision_mini.zip\")\n",
    "except:\n",
    "    print(\"Not running in Google Colab, can't use google.colab.files.download(), please manually download.\")"
   ]
  }
 ],
 "metadata": {
  "kernelspec": {
   "display_name": "Python 3",
   "language": "python",
   "name": "python3"
  },
  "language_info": {
   "codemirror_mode": {
    "name": "ipython",
    "version": 3
   },
   "file_extension": ".py",
   "mimetype": "text/x-python",
   "name": "python",
   "nbconvert_exporter": "python",
   "pygments_lexer": "ipython3",
   "version": "3.10.5"
  }
 },
 "nbformat": 4,
 "nbformat_minor": 2
}
